{
 "cells": [
  {
   "cell_type": "code",
   "execution_count": 2,
   "id": "a942233a",
   "metadata": {},
   "outputs": [],
   "source": [
    "import pandas as pd"
   ]
  },
  {
   "cell_type": "code",
   "execution_count": 4,
   "id": "0c300ab3",
   "metadata": {},
   "outputs": [],
   "source": [
    "df1 = pd.read_excel('Aracaju.xlsx')\n",
    "df2 = pd.read_excel('Fortaleza.xlsx')\n",
    "df3 = pd.read_excel('Natal.xlsx')\n",
    "df4 = pd.read_excel('Recife.xlsx')\n",
    "df5 = pd.read_excel('Salvador.xlsx')"
   ]
  },
  {
   "cell_type": "code",
   "execution_count": 6,
   "id": "77816d9f",
   "metadata": {},
   "outputs": [],
   "source": [
    "df = pd.concat([df1, df2, df3, df4, df5])"
   ]
  },
  {
   "cell_type": "code",
   "execution_count": 7,
   "id": "42367f78",
   "metadata": {},
   "outputs": [
    {
     "data": {
      "text/html": [
       "<div>\n",
       "<style scoped>\n",
       "    .dataframe tbody tr th:only-of-type {\n",
       "        vertical-align: middle;\n",
       "    }\n",
       "\n",
       "    .dataframe tbody tr th {\n",
       "        vertical-align: top;\n",
       "    }\n",
       "\n",
       "    .dataframe thead th {\n",
       "        text-align: right;\n",
       "    }\n",
       "</style>\n",
       "<table border=\"1\" class=\"dataframe\">\n",
       "  <thead>\n",
       "    <tr style=\"text-align: right;\">\n",
       "      <th></th>\n",
       "      <th>Cidade</th>\n",
       "      <th>Data</th>\n",
       "      <th>Vendas</th>\n",
       "      <th>LojaID</th>\n",
       "      <th>Qtde</th>\n",
       "    </tr>\n",
       "  </thead>\n",
       "  <tbody>\n",
       "    <tr>\n",
       "      <th>0</th>\n",
       "      <td>Aracaju</td>\n",
       "      <td>2018-01-01</td>\n",
       "      <td>142.00</td>\n",
       "      <td>1520</td>\n",
       "      <td>1</td>\n",
       "    </tr>\n",
       "    <tr>\n",
       "      <th>1</th>\n",
       "      <td>Aracaju</td>\n",
       "      <td>2018-01-01</td>\n",
       "      <td>14.21</td>\n",
       "      <td>1522</td>\n",
       "      <td>6</td>\n",
       "    </tr>\n",
       "    <tr>\n",
       "      <th>2</th>\n",
       "      <td>Aracaju</td>\n",
       "      <td>2018-01-01</td>\n",
       "      <td>71.55</td>\n",
       "      <td>1520</td>\n",
       "      <td>1</td>\n",
       "    </tr>\n",
       "    <tr>\n",
       "      <th>3</th>\n",
       "      <td>Aracaju</td>\n",
       "      <td>2018-01-01</td>\n",
       "      <td>3.01</td>\n",
       "      <td>1521</td>\n",
       "      <td>7</td>\n",
       "    </tr>\n",
       "    <tr>\n",
       "      <th>4</th>\n",
       "      <td>Aracaju</td>\n",
       "      <td>2018-01-01</td>\n",
       "      <td>24.51</td>\n",
       "      <td>1522</td>\n",
       "      <td>8</td>\n",
       "    </tr>\n",
       "  </tbody>\n",
       "</table>\n",
       "</div>"
      ],
      "text/plain": [
       "    Cidade       Data  Vendas  LojaID  Qtde\n",
       "0  Aracaju 2018-01-01  142.00    1520     1\n",
       "1  Aracaju 2018-01-01   14.21    1522     6\n",
       "2  Aracaju 2018-01-01   71.55    1520     1\n",
       "3  Aracaju 2018-01-01    3.01    1521     7\n",
       "4  Aracaju 2018-01-01   24.51    1522     8"
      ]
     },
     "execution_count": 7,
     "metadata": {},
     "output_type": "execute_result"
    }
   ],
   "source": [
    "df.head()"
   ]
  },
  {
   "cell_type": "code",
   "execution_count": 8,
   "id": "e0f0643b",
   "metadata": {},
   "outputs": [
    {
     "data": {
      "text/plain": [
       "Cidade            object\n",
       "Data      datetime64[ns]\n",
       "Vendas           float64\n",
       "LojaID             int64\n",
       "Qtde               int64\n",
       "dtype: object"
      ]
     },
     "execution_count": 8,
     "metadata": {},
     "output_type": "execute_result"
    }
   ],
   "source": [
    "df.dtypes"
   ]
  },
  {
   "cell_type": "code",
   "execution_count": 9,
   "id": "11786f25",
   "metadata": {},
   "outputs": [],
   "source": [
    "df['LojaID'] = df['LojaID'].astype('object')"
   ]
  },
  {
   "cell_type": "code",
   "execution_count": 10,
   "id": "286993e7",
   "metadata": {},
   "outputs": [
    {
     "data": {
      "text/plain": [
       "Cidade            object\n",
       "Data      datetime64[ns]\n",
       "Vendas           float64\n",
       "LojaID            object\n",
       "Qtde               int64\n",
       "dtype: object"
      ]
     },
     "execution_count": 10,
     "metadata": {},
     "output_type": "execute_result"
    }
   ],
   "source": [
    "df.dtypes"
   ]
  },
  {
   "cell_type": "code",
   "execution_count": 16,
   "id": "4b2014e9",
   "metadata": {},
   "outputs": [
    {
     "data": {
      "text/plain": [
       "Cidade    0\n",
       "Data      0\n",
       "Vendas    0\n",
       "LojaID    0\n",
       "Qtde      0\n",
       "dtype: int64"
      ]
     },
     "execution_count": 16,
     "metadata": {},
     "output_type": "execute_result"
    }
   ],
   "source": [
    "df.isnull().sum()"
   ]
  },
  {
   "cell_type": "code",
   "execution_count": 13,
   "id": "b45c66bb",
   "metadata": {},
   "outputs": [],
   "source": [
    "df['Vendas'].fillna(df['Vendas'].mean(), inplace=True)"
   ]
  },
  {
   "cell_type": "code",
   "execution_count": 17,
   "id": "6caf9594",
   "metadata": {},
   "outputs": [
    {
     "data": {
      "text/plain": [
       "122.61180089485438"
      ]
     },
     "execution_count": 17,
     "metadata": {},
     "output_type": "execute_result"
    }
   ],
   "source": [
    "df['Vendas'].mean()"
   ]
  },
  {
   "cell_type": "code",
   "execution_count": 15,
   "id": "a1baff25",
   "metadata": {},
   "outputs": [],
   "source": [
    "df['Vendas'].fillna(0, inplace=True)"
   ]
  },
  {
   "cell_type": "code",
   "execution_count": 18,
   "id": "5e7d3a9b",
   "metadata": {},
   "outputs": [],
   "source": [
    "df['receita'] = df['Vendas'].mul(df['Qtde'])"
   ]
  },
  {
   "cell_type": "code",
   "execution_count": 71,
   "id": "8bfda631",
   "metadata": {},
   "outputs": [],
   "source": [
    "df['ano_venda'] = df['Data'].dt.year"
   ]
  },
  {
   "cell_type": "code",
   "execution_count": 72,
   "id": "f0140353",
   "metadata": {},
   "outputs": [
    {
     "data": {
      "text/html": [
       "<div>\n",
       "<style scoped>\n",
       "    .dataframe tbody tr th:only-of-type {\n",
       "        vertical-align: middle;\n",
       "    }\n",
       "\n",
       "    .dataframe tbody tr th {\n",
       "        vertical-align: top;\n",
       "    }\n",
       "\n",
       "    .dataframe thead th {\n",
       "        text-align: right;\n",
       "    }\n",
       "</style>\n",
       "<table border=\"1\" class=\"dataframe\">\n",
       "  <thead>\n",
       "    <tr style=\"text-align: right;\">\n",
       "      <th></th>\n",
       "      <th>Cidade</th>\n",
       "      <th>Data</th>\n",
       "      <th>Vendas</th>\n",
       "      <th>LojaID</th>\n",
       "      <th>Qtde</th>\n",
       "      <th>receita</th>\n",
       "      <th>mes_venda</th>\n",
       "      <th>dia_venda</th>\n",
       "      <th>diferenca_dias</th>\n",
       "      <th>trimestre_venda</th>\n",
       "      <th>ano_venda</th>\n",
       "    </tr>\n",
       "  </thead>\n",
       "  <tbody>\n",
       "    <tr>\n",
       "      <th>0</th>\n",
       "      <td>Aracaju</td>\n",
       "      <td>2018-01-01</td>\n",
       "      <td>142.00</td>\n",
       "      <td>1520</td>\n",
       "      <td>1</td>\n",
       "      <td>142.00</td>\n",
       "      <td>1</td>\n",
       "      <td>1</td>\n",
       "      <td>0 days</td>\n",
       "      <td>1</td>\n",
       "      <td>2018</td>\n",
       "    </tr>\n",
       "    <tr>\n",
       "      <th>1</th>\n",
       "      <td>Aracaju</td>\n",
       "      <td>2018-01-01</td>\n",
       "      <td>14.21</td>\n",
       "      <td>1522</td>\n",
       "      <td>6</td>\n",
       "      <td>85.26</td>\n",
       "      <td>1</td>\n",
       "      <td>1</td>\n",
       "      <td>0 days</td>\n",
       "      <td>1</td>\n",
       "      <td>2018</td>\n",
       "    </tr>\n",
       "    <tr>\n",
       "      <th>2</th>\n",
       "      <td>Aracaju</td>\n",
       "      <td>2018-01-01</td>\n",
       "      <td>71.55</td>\n",
       "      <td>1520</td>\n",
       "      <td>1</td>\n",
       "      <td>71.55</td>\n",
       "      <td>1</td>\n",
       "      <td>1</td>\n",
       "      <td>0 days</td>\n",
       "      <td>1</td>\n",
       "      <td>2018</td>\n",
       "    </tr>\n",
       "    <tr>\n",
       "      <th>3</th>\n",
       "      <td>Aracaju</td>\n",
       "      <td>2018-01-01</td>\n",
       "      <td>3.01</td>\n",
       "      <td>1521</td>\n",
       "      <td>7</td>\n",
       "      <td>21.07</td>\n",
       "      <td>1</td>\n",
       "      <td>1</td>\n",
       "      <td>0 days</td>\n",
       "      <td>1</td>\n",
       "      <td>2018</td>\n",
       "    </tr>\n",
       "    <tr>\n",
       "      <th>4</th>\n",
       "      <td>Aracaju</td>\n",
       "      <td>2018-01-01</td>\n",
       "      <td>24.51</td>\n",
       "      <td>1522</td>\n",
       "      <td>8</td>\n",
       "      <td>196.08</td>\n",
       "      <td>1</td>\n",
       "      <td>1</td>\n",
       "      <td>0 days</td>\n",
       "      <td>1</td>\n",
       "      <td>2018</td>\n",
       "    </tr>\n",
       "  </tbody>\n",
       "</table>\n",
       "</div>"
      ],
      "text/plain": [
       "    Cidade       Data  Vendas LojaID  Qtde  receita  mes_venda  dia_venda  \\\n",
       "0  Aracaju 2018-01-01  142.00   1520     1   142.00          1          1   \n",
       "1  Aracaju 2018-01-01   14.21   1522     6    85.26          1          1   \n",
       "2  Aracaju 2018-01-01   71.55   1520     1    71.55          1          1   \n",
       "3  Aracaju 2018-01-01    3.01   1521     7    21.07          1          1   \n",
       "4  Aracaju 2018-01-01   24.51   1522     8   196.08          1          1   \n",
       "\n",
       "  diferenca_dias  trimestre_venda  ano_venda  \n",
       "0         0 days                1       2018  \n",
       "1         0 days                1       2018  \n",
       "2         0 days                1       2018  \n",
       "3         0 days                1       2018  \n",
       "4         0 days                1       2018  "
      ]
     },
     "execution_count": 72,
     "metadata": {},
     "output_type": "execute_result"
    }
   ],
   "source": [
    "df.head()"
   ]
  },
  {
   "cell_type": "code",
   "execution_count": 20,
   "id": "598daab3",
   "metadata": {},
   "outputs": [
    {
     "data": {
      "text/html": [
       "<div>\n",
       "<style scoped>\n",
       "    .dataframe tbody tr th:only-of-type {\n",
       "        vertical-align: middle;\n",
       "    }\n",
       "\n",
       "    .dataframe tbody tr th {\n",
       "        vertical-align: top;\n",
       "    }\n",
       "\n",
       "    .dataframe thead th {\n",
       "        text-align: right;\n",
       "    }\n",
       "</style>\n",
       "<table border=\"1\" class=\"dataframe\">\n",
       "  <thead>\n",
       "    <tr style=\"text-align: right;\">\n",
       "      <th></th>\n",
       "      <th>Cidade</th>\n",
       "      <th>Data</th>\n",
       "      <th>Vendas</th>\n",
       "      <th>LojaID</th>\n",
       "      <th>Qtde</th>\n",
       "      <th>receita</th>\n",
       "    </tr>\n",
       "  </thead>\n",
       "  <tbody>\n",
       "    <tr>\n",
       "      <th>166</th>\n",
       "      <td>Salvador</td>\n",
       "      <td>2019-01-02</td>\n",
       "      <td>111.72</td>\n",
       "      <td>1035</td>\n",
       "      <td>3</td>\n",
       "      <td>335.16</td>\n",
       "    </tr>\n",
       "    <tr>\n",
       "      <th>226</th>\n",
       "      <td>Salvador</td>\n",
       "      <td>2019-01-02</td>\n",
       "      <td>38.32</td>\n",
       "      <td>1035</td>\n",
       "      <td>2</td>\n",
       "      <td>76.64</td>\n",
       "    </tr>\n",
       "    <tr>\n",
       "      <th>23</th>\n",
       "      <td>Fortaleza</td>\n",
       "      <td>2019-01-01</td>\n",
       "      <td>85.90</td>\n",
       "      <td>1004</td>\n",
       "      <td>5</td>\n",
       "      <td>429.50</td>\n",
       "    </tr>\n",
       "    <tr>\n",
       "      <th>86</th>\n",
       "      <td>Aracaju</td>\n",
       "      <td>2018-01-01</td>\n",
       "      <td>154.92</td>\n",
       "      <td>1521</td>\n",
       "      <td>5</td>\n",
       "      <td>774.60</td>\n",
       "    </tr>\n",
       "    <tr>\n",
       "      <th>98</th>\n",
       "      <td>Salvador</td>\n",
       "      <td>2019-01-01</td>\n",
       "      <td>231.76</td>\n",
       "      <td>1036</td>\n",
       "      <td>3</td>\n",
       "      <td>695.28</td>\n",
       "    </tr>\n",
       "    <tr>\n",
       "      <th>111</th>\n",
       "      <td>Aracaju</td>\n",
       "      <td>2018-01-01</td>\n",
       "      <td>24.25</td>\n",
       "      <td>1523</td>\n",
       "      <td>1</td>\n",
       "      <td>24.25</td>\n",
       "    </tr>\n",
       "    <tr>\n",
       "      <th>66</th>\n",
       "      <td>Recife</td>\n",
       "      <td>2019-01-01</td>\n",
       "      <td>14.59</td>\n",
       "      <td>983</td>\n",
       "      <td>7</td>\n",
       "      <td>102.13</td>\n",
       "    </tr>\n",
       "    <tr>\n",
       "      <th>91</th>\n",
       "      <td>Aracaju</td>\n",
       "      <td>2018-01-01</td>\n",
       "      <td>200.85</td>\n",
       "      <td>1522</td>\n",
       "      <td>6</td>\n",
       "      <td>1205.10</td>\n",
       "    </tr>\n",
       "    <tr>\n",
       "      <th>177</th>\n",
       "      <td>Natal</td>\n",
       "      <td>2019-01-02</td>\n",
       "      <td>41.19</td>\n",
       "      <td>1037</td>\n",
       "      <td>2</td>\n",
       "      <td>82.38</td>\n",
       "    </tr>\n",
       "    <tr>\n",
       "      <th>2</th>\n",
       "      <td>Fortaleza</td>\n",
       "      <td>2019-02-10</td>\n",
       "      <td>35.33</td>\n",
       "      <td>1004</td>\n",
       "      <td>3</td>\n",
       "      <td>105.99</td>\n",
       "    </tr>\n",
       "    <tr>\n",
       "      <th>88</th>\n",
       "      <td>Fortaleza</td>\n",
       "      <td>2019-01-01</td>\n",
       "      <td>68.60</td>\n",
       "      <td>1004</td>\n",
       "      <td>6</td>\n",
       "      <td>411.60</td>\n",
       "    </tr>\n",
       "    <tr>\n",
       "      <th>7</th>\n",
       "      <td>Salvador</td>\n",
       "      <td>2019-02-11</td>\n",
       "      <td>6.13</td>\n",
       "      <td>1034</td>\n",
       "      <td>2</td>\n",
       "      <td>12.26</td>\n",
       "    </tr>\n",
       "    <tr>\n",
       "      <th>39</th>\n",
       "      <td>Natal</td>\n",
       "      <td>2019-01-10</td>\n",
       "      <td>504.00</td>\n",
       "      <td>854</td>\n",
       "      <td>3</td>\n",
       "      <td>1512.00</td>\n",
       "    </tr>\n",
       "    <tr>\n",
       "      <th>113</th>\n",
       "      <td>Aracaju</td>\n",
       "      <td>2018-01-01</td>\n",
       "      <td>23.05</td>\n",
       "      <td>1521</td>\n",
       "      <td>9</td>\n",
       "      <td>207.45</td>\n",
       "    </tr>\n",
       "    <tr>\n",
       "      <th>74</th>\n",
       "      <td>Aracaju</td>\n",
       "      <td>2018-01-01</td>\n",
       "      <td>7.86</td>\n",
       "      <td>1520</td>\n",
       "      <td>2</td>\n",
       "      <td>15.72</td>\n",
       "    </tr>\n",
       "  </tbody>\n",
       "</table>\n",
       "</div>"
      ],
      "text/plain": [
       "        Cidade       Data  Vendas LojaID  Qtde  receita\n",
       "166   Salvador 2019-01-02  111.72   1035     3   335.16\n",
       "226   Salvador 2019-01-02   38.32   1035     2    76.64\n",
       "23   Fortaleza 2019-01-01   85.90   1004     5   429.50\n",
       "86     Aracaju 2018-01-01  154.92   1521     5   774.60\n",
       "98    Salvador 2019-01-01  231.76   1036     3   695.28\n",
       "111    Aracaju 2018-01-01   24.25   1523     1    24.25\n",
       "66      Recife 2019-01-01   14.59    983     7   102.13\n",
       "91     Aracaju 2018-01-01  200.85   1522     6  1205.10\n",
       "177      Natal 2019-01-02   41.19   1037     2    82.38\n",
       "2    Fortaleza 2019-02-10   35.33   1004     3   105.99\n",
       "88   Fortaleza 2019-01-01   68.60   1004     6   411.60\n",
       "7     Salvador 2019-02-11    6.13   1034     2    12.26\n",
       "39       Natal 2019-01-10  504.00    854     3  1512.00\n",
       "113    Aracaju 2018-01-01   23.05   1521     9   207.45\n",
       "74     Aracaju 2018-01-01    7.86   1520     2    15.72"
      ]
     },
     "execution_count": 20,
     "metadata": {},
     "output_type": "execute_result"
    }
   ],
   "source": [
    "df.sample(15)"
   ]
  },
  {
   "cell_type": "code",
   "execution_count": 21,
   "id": "0a3a7e5d",
   "metadata": {},
   "outputs": [
    {
     "data": {
      "text/html": [
       "<div>\n",
       "<style scoped>\n",
       "    .dataframe tbody tr th:only-of-type {\n",
       "        vertical-align: middle;\n",
       "    }\n",
       "\n",
       "    .dataframe tbody tr th {\n",
       "        vertical-align: top;\n",
       "    }\n",
       "\n",
       "    .dataframe thead th {\n",
       "        text-align: right;\n",
       "    }\n",
       "</style>\n",
       "<table border=\"1\" class=\"dataframe\">\n",
       "  <thead>\n",
       "    <tr style=\"text-align: right;\">\n",
       "      <th></th>\n",
       "      <th>Cidade</th>\n",
       "      <th>Data</th>\n",
       "      <th>Vendas</th>\n",
       "      <th>LojaID</th>\n",
       "      <th>Qtde</th>\n",
       "      <th>receita</th>\n",
       "    </tr>\n",
       "  </thead>\n",
       "  <tbody>\n",
       "    <tr>\n",
       "      <th>7</th>\n",
       "      <td>Natal</td>\n",
       "      <td>2019-03-18</td>\n",
       "      <td>886.0</td>\n",
       "      <td>853</td>\n",
       "      <td>4</td>\n",
       "      <td>3544.0</td>\n",
       "    </tr>\n",
       "    <tr>\n",
       "      <th>55</th>\n",
       "      <td>Natal</td>\n",
       "      <td>2019-01-08</td>\n",
       "      <td>859.0</td>\n",
       "      <td>854</td>\n",
       "      <td>4</td>\n",
       "      <td>3436.0</td>\n",
       "    </tr>\n",
       "    <tr>\n",
       "      <th>51</th>\n",
       "      <td>Natal</td>\n",
       "      <td>2018-01-21</td>\n",
       "      <td>859.0</td>\n",
       "      <td>852</td>\n",
       "      <td>4</td>\n",
       "      <td>3436.0</td>\n",
       "    </tr>\n",
       "    <tr>\n",
       "      <th>30</th>\n",
       "      <td>Natal</td>\n",
       "      <td>2018-10-02</td>\n",
       "      <td>856.0</td>\n",
       "      <td>853</td>\n",
       "      <td>4</td>\n",
       "      <td>3424.0</td>\n",
       "    </tr>\n",
       "    <tr>\n",
       "      <th>41</th>\n",
       "      <td>Natal</td>\n",
       "      <td>2018-05-20</td>\n",
       "      <td>835.0</td>\n",
       "      <td>852</td>\n",
       "      <td>4</td>\n",
       "      <td>3340.0</td>\n",
       "    </tr>\n",
       "    <tr>\n",
       "      <th>38</th>\n",
       "      <td>Natal</td>\n",
       "      <td>2018-02-25</td>\n",
       "      <td>828.0</td>\n",
       "      <td>852</td>\n",
       "      <td>4</td>\n",
       "      <td>3312.0</td>\n",
       "    </tr>\n",
       "    <tr>\n",
       "      <th>10</th>\n",
       "      <td>Natal</td>\n",
       "      <td>2018-10-27</td>\n",
       "      <td>828.0</td>\n",
       "      <td>852</td>\n",
       "      <td>4</td>\n",
       "      <td>3312.0</td>\n",
       "    </tr>\n",
       "    <tr>\n",
       "      <th>69</th>\n",
       "      <td>Natal</td>\n",
       "      <td>2019-03-24</td>\n",
       "      <td>817.0</td>\n",
       "      <td>852</td>\n",
       "      <td>4</td>\n",
       "      <td>3268.0</td>\n",
       "    </tr>\n",
       "    <tr>\n",
       "      <th>62</th>\n",
       "      <td>Natal</td>\n",
       "      <td>2018-02-10</td>\n",
       "      <td>793.0</td>\n",
       "      <td>854</td>\n",
       "      <td>4</td>\n",
       "      <td>3172.0</td>\n",
       "    </tr>\n",
       "    <tr>\n",
       "      <th>52</th>\n",
       "      <td>Natal</td>\n",
       "      <td>2018-04-27</td>\n",
       "      <td>778.0</td>\n",
       "      <td>854</td>\n",
       "      <td>4</td>\n",
       "      <td>3112.0</td>\n",
       "    </tr>\n",
       "  </tbody>\n",
       "</table>\n",
       "</div>"
      ],
      "text/plain": [
       "   Cidade       Data  Vendas LojaID  Qtde  receita\n",
       "7   Natal 2019-03-18   886.0    853     4   3544.0\n",
       "55  Natal 2019-01-08   859.0    854     4   3436.0\n",
       "51  Natal 2018-01-21   859.0    852     4   3436.0\n",
       "30  Natal 2018-10-02   856.0    853     4   3424.0\n",
       "41  Natal 2018-05-20   835.0    852     4   3340.0\n",
       "38  Natal 2018-02-25   828.0    852     4   3312.0\n",
       "10  Natal 2018-10-27   828.0    852     4   3312.0\n",
       "69  Natal 2019-03-24   817.0    852     4   3268.0\n",
       "62  Natal 2018-02-10   793.0    854     4   3172.0\n",
       "52  Natal 2018-04-27   778.0    854     4   3112.0"
      ]
     },
     "execution_count": 21,
     "metadata": {},
     "output_type": "execute_result"
    }
   ],
   "source": [
    "df.sort_values('receita', ascending=False).head(10)"
   ]
  },
  {
   "cell_type": "code",
   "execution_count": 22,
   "id": "13e06009",
   "metadata": {},
   "outputs": [],
   "source": [
    "df['mes_venda'], df['dia_venda'] = (df['Data'].dt.month, df['Data'].dt.day)"
   ]
  },
  {
   "cell_type": "code",
   "execution_count": 76,
   "id": "5699f07d",
   "metadata": {},
   "outputs": [
    {
     "data": {
      "text/html": [
       "<div>\n",
       "<style scoped>\n",
       "    .dataframe tbody tr th:only-of-type {\n",
       "        vertical-align: middle;\n",
       "    }\n",
       "\n",
       "    .dataframe tbody tr th {\n",
       "        vertical-align: top;\n",
       "    }\n",
       "\n",
       "    .dataframe thead th {\n",
       "        text-align: right;\n",
       "    }\n",
       "</style>\n",
       "<table border=\"1\" class=\"dataframe\">\n",
       "  <thead>\n",
       "    <tr style=\"text-align: right;\">\n",
       "      <th></th>\n",
       "      <th>Cidade</th>\n",
       "      <th>Data</th>\n",
       "      <th>Vendas</th>\n",
       "      <th>LojaID</th>\n",
       "      <th>Qtde</th>\n",
       "      <th>receita</th>\n",
       "      <th>mes_venda</th>\n",
       "      <th>dia_venda</th>\n",
       "      <th>diferenca_dias</th>\n",
       "      <th>trimestre_venda</th>\n",
       "      <th>ano_venda</th>\n",
       "    </tr>\n",
       "  </thead>\n",
       "  <tbody>\n",
       "    <tr>\n",
       "      <th>129</th>\n",
       "      <td>Natal</td>\n",
       "      <td>2019-01-02</td>\n",
       "      <td>125.66</td>\n",
       "      <td>1037</td>\n",
       "      <td>1</td>\n",
       "      <td>125.66</td>\n",
       "      <td>1</td>\n",
       "      <td>2</td>\n",
       "      <td>366 days</td>\n",
       "      <td>1</td>\n",
       "      <td>2019</td>\n",
       "    </tr>\n",
       "    <tr>\n",
       "      <th>32</th>\n",
       "      <td>Fortaleza</td>\n",
       "      <td>2019-01-01</td>\n",
       "      <td>43.33</td>\n",
       "      <td>1004</td>\n",
       "      <td>4</td>\n",
       "      <td>173.32</td>\n",
       "      <td>1</td>\n",
       "      <td>1</td>\n",
       "      <td>365 days</td>\n",
       "      <td>1</td>\n",
       "      <td>2019</td>\n",
       "    </tr>\n",
       "    <tr>\n",
       "      <th>97</th>\n",
       "      <td>Natal</td>\n",
       "      <td>2019-01-02</td>\n",
       "      <td>39.91</td>\n",
       "      <td>1037</td>\n",
       "      <td>3</td>\n",
       "      <td>119.73</td>\n",
       "      <td>1</td>\n",
       "      <td>2</td>\n",
       "      <td>366 days</td>\n",
       "      <td>1</td>\n",
       "      <td>2019</td>\n",
       "    </tr>\n",
       "    <tr>\n",
       "      <th>84</th>\n",
       "      <td>Aracaju</td>\n",
       "      <td>2018-01-01</td>\n",
       "      <td>40.98</td>\n",
       "      <td>1520</td>\n",
       "      <td>5</td>\n",
       "      <td>204.90</td>\n",
       "      <td>1</td>\n",
       "      <td>1</td>\n",
       "      <td>0 days</td>\n",
       "      <td>1</td>\n",
       "      <td>2018</td>\n",
       "    </tr>\n",
       "    <tr>\n",
       "      <th>43</th>\n",
       "      <td>Natal</td>\n",
       "      <td>2019-04-01</td>\n",
       "      <td>538.00</td>\n",
       "      <td>853</td>\n",
       "      <td>3</td>\n",
       "      <td>1614.00</td>\n",
       "      <td>4</td>\n",
       "      <td>1</td>\n",
       "      <td>455 days</td>\n",
       "      <td>2</td>\n",
       "      <td>2019</td>\n",
       "    </tr>\n",
       "  </tbody>\n",
       "</table>\n",
       "</div>"
      ],
      "text/plain": [
       "        Cidade       Data  Vendas LojaID  Qtde  receita  mes_venda  dia_venda  \\\n",
       "129      Natal 2019-01-02  125.66   1037     1   125.66          1          2   \n",
       "32   Fortaleza 2019-01-01   43.33   1004     4   173.32          1          1   \n",
       "97       Natal 2019-01-02   39.91   1037     3   119.73          1          2   \n",
       "84     Aracaju 2018-01-01   40.98   1520     5   204.90          1          1   \n",
       "43       Natal 2019-04-01  538.00    853     3  1614.00          4          1   \n",
       "\n",
       "    diferenca_dias  trimestre_venda  ano_venda  \n",
       "129       366 days                1       2019  \n",
       "32        365 days                1       2019  \n",
       "97        366 days                1       2019  \n",
       "84          0 days                1       2018  \n",
       "43        455 days                2       2019  "
      ]
     },
     "execution_count": 76,
     "metadata": {},
     "output_type": "execute_result"
    }
   ],
   "source": [
    "df.sample(5)"
   ]
  },
  {
   "cell_type": "code",
   "execution_count": 26,
   "id": "16cbfb58",
   "metadata": {},
   "outputs": [],
   "source": [
    "df['diferenca_dias'] = df['Data'] - df['Data'].min()"
   ]
  },
  {
   "cell_type": "code",
   "execution_count": 28,
   "id": "01c8748e",
   "metadata": {},
   "outputs": [
    {
     "data": {
      "text/html": [
       "<div>\n",
       "<style scoped>\n",
       "    .dataframe tbody tr th:only-of-type {\n",
       "        vertical-align: middle;\n",
       "    }\n",
       "\n",
       "    .dataframe tbody tr th {\n",
       "        vertical-align: top;\n",
       "    }\n",
       "\n",
       "    .dataframe thead th {\n",
       "        text-align: right;\n",
       "    }\n",
       "</style>\n",
       "<table border=\"1\" class=\"dataframe\">\n",
       "  <thead>\n",
       "    <tr style=\"text-align: right;\">\n",
       "      <th></th>\n",
       "      <th>Cidade</th>\n",
       "      <th>Data</th>\n",
       "      <th>Vendas</th>\n",
       "      <th>LojaID</th>\n",
       "      <th>Qtde</th>\n",
       "      <th>receita</th>\n",
       "      <th>mes_venda</th>\n",
       "      <th>dia_venda</th>\n",
       "      <th>diferenca_dias</th>\n",
       "    </tr>\n",
       "  </thead>\n",
       "  <tbody>\n",
       "    <tr>\n",
       "      <th>73</th>\n",
       "      <td>Aracaju</td>\n",
       "      <td>2018-01-01</td>\n",
       "      <td>159.78</td>\n",
       "      <td>1521</td>\n",
       "      <td>3</td>\n",
       "      <td>479.34</td>\n",
       "      <td>1</td>\n",
       "      <td>1</td>\n",
       "      <td>0 days</td>\n",
       "    </tr>\n",
       "    <tr>\n",
       "      <th>17</th>\n",
       "      <td>Natal</td>\n",
       "      <td>2018-02-18</td>\n",
       "      <td>276.00</td>\n",
       "      <td>854</td>\n",
       "      <td>3</td>\n",
       "      <td>828.00</td>\n",
       "      <td>2</td>\n",
       "      <td>18</td>\n",
       "      <td>48 days</td>\n",
       "    </tr>\n",
       "    <tr>\n",
       "      <th>65</th>\n",
       "      <td>Fortaleza</td>\n",
       "      <td>2019-01-01</td>\n",
       "      <td>145.20</td>\n",
       "      <td>1005</td>\n",
       "      <td>2</td>\n",
       "      <td>290.40</td>\n",
       "      <td>1</td>\n",
       "      <td>1</td>\n",
       "      <td>365 days</td>\n",
       "    </tr>\n",
       "    <tr>\n",
       "      <th>93</th>\n",
       "      <td>Natal</td>\n",
       "      <td>2019-01-02</td>\n",
       "      <td>15.58</td>\n",
       "      <td>1037</td>\n",
       "      <td>1</td>\n",
       "      <td>15.58</td>\n",
       "      <td>1</td>\n",
       "      <td>2</td>\n",
       "      <td>366 days</td>\n",
       "    </tr>\n",
       "    <tr>\n",
       "      <th>131</th>\n",
       "      <td>Salvador</td>\n",
       "      <td>2019-03-02</td>\n",
       "      <td>63.48</td>\n",
       "      <td>1037</td>\n",
       "      <td>3</td>\n",
       "      <td>190.44</td>\n",
       "      <td>3</td>\n",
       "      <td>2</td>\n",
       "      <td>425 days</td>\n",
       "    </tr>\n",
       "  </tbody>\n",
       "</table>\n",
       "</div>"
      ],
      "text/plain": [
       "        Cidade       Data  Vendas LojaID  Qtde  receita  mes_venda  dia_venda  \\\n",
       "73     Aracaju 2018-01-01  159.78   1521     3   479.34          1          1   \n",
       "17       Natal 2018-02-18  276.00    854     3   828.00          2         18   \n",
       "65   Fortaleza 2019-01-01  145.20   1005     2   290.40          1          1   \n",
       "93       Natal 2019-01-02   15.58   1037     1    15.58          1          2   \n",
       "131   Salvador 2019-03-02   63.48   1037     3   190.44          3          2   \n",
       "\n",
       "    diferenca_dias  \n",
       "73          0 days  \n",
       "17         48 days  \n",
       "65        365 days  \n",
       "93        366 days  \n",
       "131       425 days  "
      ]
     },
     "execution_count": 28,
     "metadata": {},
     "output_type": "execute_result"
    }
   ],
   "source": [
    "df.sample(5)"
   ]
  },
  {
   "cell_type": "code",
   "execution_count": 32,
   "id": "b135aa28",
   "metadata": {},
   "outputs": [],
   "source": [
    "df['trimestre_venda'] = df['trimestre']"
   ]
  },
  {
   "cell_type": "code",
   "execution_count": 33,
   "id": "fb1c4dac",
   "metadata": {},
   "outputs": [
    {
     "data": {
      "text/html": [
       "<div>\n",
       "<style scoped>\n",
       "    .dataframe tbody tr th:only-of-type {\n",
       "        vertical-align: middle;\n",
       "    }\n",
       "\n",
       "    .dataframe tbody tr th {\n",
       "        vertical-align: top;\n",
       "    }\n",
       "\n",
       "    .dataframe thead th {\n",
       "        text-align: right;\n",
       "    }\n",
       "</style>\n",
       "<table border=\"1\" class=\"dataframe\">\n",
       "  <thead>\n",
       "    <tr style=\"text-align: right;\">\n",
       "      <th></th>\n",
       "      <th>Cidade</th>\n",
       "      <th>Data</th>\n",
       "      <th>Vendas</th>\n",
       "      <th>LojaID</th>\n",
       "      <th>Qtde</th>\n",
       "      <th>receita</th>\n",
       "      <th>mes_venda</th>\n",
       "      <th>dia_venda</th>\n",
       "      <th>diferenca_dias</th>\n",
       "      <th>trimestre</th>\n",
       "      <th>trimestre_venda</th>\n",
       "    </tr>\n",
       "  </thead>\n",
       "  <tbody>\n",
       "    <tr>\n",
       "      <th>19</th>\n",
       "      <td>Salvador</td>\n",
       "      <td>2019-01-01</td>\n",
       "      <td>167.12</td>\n",
       "      <td>1035</td>\n",
       "      <td>1</td>\n",
       "      <td>167.12</td>\n",
       "      <td>1</td>\n",
       "      <td>1</td>\n",
       "      <td>365 days</td>\n",
       "      <td>1</td>\n",
       "      <td>1</td>\n",
       "    </tr>\n",
       "    <tr>\n",
       "      <th>21</th>\n",
       "      <td>Fortaleza</td>\n",
       "      <td>2019-01-01</td>\n",
       "      <td>40.63</td>\n",
       "      <td>1004</td>\n",
       "      <td>3</td>\n",
       "      <td>121.89</td>\n",
       "      <td>1</td>\n",
       "      <td>1</td>\n",
       "      <td>365 days</td>\n",
       "      <td>1</td>\n",
       "      <td>1</td>\n",
       "    </tr>\n",
       "    <tr>\n",
       "      <th>94</th>\n",
       "      <td>Natal</td>\n",
       "      <td>2019-01-02</td>\n",
       "      <td>33.24</td>\n",
       "      <td>1037</td>\n",
       "      <td>1</td>\n",
       "      <td>33.24</td>\n",
       "      <td>1</td>\n",
       "      <td>2</td>\n",
       "      <td>366 days</td>\n",
       "      <td>1</td>\n",
       "      <td>1</td>\n",
       "    </tr>\n",
       "    <tr>\n",
       "      <th>163</th>\n",
       "      <td>Natal</td>\n",
       "      <td>2019-01-02</td>\n",
       "      <td>17.66</td>\n",
       "      <td>1036</td>\n",
       "      <td>3</td>\n",
       "      <td>52.98</td>\n",
       "      <td>1</td>\n",
       "      <td>2</td>\n",
       "      <td>366 days</td>\n",
       "      <td>1</td>\n",
       "      <td>1</td>\n",
       "    </tr>\n",
       "    <tr>\n",
       "      <th>111</th>\n",
       "      <td>Fortaleza</td>\n",
       "      <td>2019-03-02</td>\n",
       "      <td>8.00</td>\n",
       "      <td>981</td>\n",
       "      <td>3</td>\n",
       "      <td>24.00</td>\n",
       "      <td>3</td>\n",
       "      <td>2</td>\n",
       "      <td>425 days</td>\n",
       "      <td>1</td>\n",
       "      <td>1</td>\n",
       "    </tr>\n",
       "  </tbody>\n",
       "</table>\n",
       "</div>"
      ],
      "text/plain": [
       "        Cidade       Data  Vendas LojaID  Qtde  receita  mes_venda  dia_venda  \\\n",
       "19    Salvador 2019-01-01  167.12   1035     1   167.12          1          1   \n",
       "21   Fortaleza 2019-01-01   40.63   1004     3   121.89          1          1   \n",
       "94       Natal 2019-01-02   33.24   1037     1    33.24          1          2   \n",
       "163      Natal 2019-01-02   17.66   1036     3    52.98          1          2   \n",
       "111  Fortaleza 2019-03-02    8.00    981     3    24.00          3          2   \n",
       "\n",
       "    diferenca_dias  trimestre  trimestre_venda  \n",
       "19        365 days          1                1  \n",
       "21        365 days          1                1  \n",
       "94        366 days          1                1  \n",
       "163       366 days          1                1  \n",
       "111       425 days          1                1  "
      ]
     },
     "execution_count": 33,
     "metadata": {},
     "output_type": "execute_result"
    }
   ],
   "source": [
    "df.sample(5)"
   ]
  },
  {
   "cell_type": "code",
   "execution_count": 37,
   "id": "1aadd9da",
   "metadata": {},
   "outputs": [],
   "source": [
    "df.drop('trimestre', axis=1, inplace=True)"
   ]
  },
  {
   "cell_type": "code",
   "execution_count": 42,
   "id": "43081738",
   "metadata": {},
   "outputs": [
    {
     "data": {
      "text/html": [
       "<div>\n",
       "<style scoped>\n",
       "    .dataframe tbody tr th:only-of-type {\n",
       "        vertical-align: middle;\n",
       "    }\n",
       "\n",
       "    .dataframe tbody tr th {\n",
       "        vertical-align: top;\n",
       "    }\n",
       "\n",
       "    .dataframe thead th {\n",
       "        text-align: right;\n",
       "    }\n",
       "</style>\n",
       "<table border=\"1\" class=\"dataframe\">\n",
       "  <thead>\n",
       "    <tr style=\"text-align: right;\">\n",
       "      <th></th>\n",
       "      <th>Cidade</th>\n",
       "      <th>Data</th>\n",
       "      <th>Vendas</th>\n",
       "      <th>LojaID</th>\n",
       "      <th>Qtde</th>\n",
       "      <th>receita</th>\n",
       "      <th>mes_venda</th>\n",
       "      <th>dia_venda</th>\n",
       "      <th>diferenca_dias</th>\n",
       "      <th>trimestre_venda</th>\n",
       "    </tr>\n",
       "  </thead>\n",
       "  <tbody>\n",
       "    <tr>\n",
       "      <th>8</th>\n",
       "      <td>Natal</td>\n",
       "      <td>2019-03-27</td>\n",
       "      <td>667.00</td>\n",
       "      <td>852</td>\n",
       "      <td>4</td>\n",
       "      <td>2668.00</td>\n",
       "      <td>3</td>\n",
       "      <td>27</td>\n",
       "      <td>450 days</td>\n",
       "      <td>1</td>\n",
       "    </tr>\n",
       "    <tr>\n",
       "      <th>16</th>\n",
       "      <td>Recife</td>\n",
       "      <td>2019-01-01</td>\n",
       "      <td>19.95</td>\n",
       "      <td>980</td>\n",
       "      <td>8</td>\n",
       "      <td>159.60</td>\n",
       "      <td>1</td>\n",
       "      <td>1</td>\n",
       "      <td>365 days</td>\n",
       "      <td>1</td>\n",
       "    </tr>\n",
       "    <tr>\n",
       "      <th>202</th>\n",
       "      <td>Natal</td>\n",
       "      <td>2019-01-02</td>\n",
       "      <td>22.45</td>\n",
       "      <td>1036</td>\n",
       "      <td>1</td>\n",
       "      <td>22.45</td>\n",
       "      <td>1</td>\n",
       "      <td>2</td>\n",
       "      <td>366 days</td>\n",
       "      <td>1</td>\n",
       "    </tr>\n",
       "    <tr>\n",
       "      <th>57</th>\n",
       "      <td>Recife</td>\n",
       "      <td>2019-01-01</td>\n",
       "      <td>201.41</td>\n",
       "      <td>980</td>\n",
       "      <td>3</td>\n",
       "      <td>604.23</td>\n",
       "      <td>1</td>\n",
       "      <td>1</td>\n",
       "      <td>365 days</td>\n",
       "      <td>1</td>\n",
       "    </tr>\n",
       "    <tr>\n",
       "      <th>150</th>\n",
       "      <td>Natal</td>\n",
       "      <td>2019-01-02</td>\n",
       "      <td>11.13</td>\n",
       "      <td>1035</td>\n",
       "      <td>2</td>\n",
       "      <td>22.26</td>\n",
       "      <td>1</td>\n",
       "      <td>2</td>\n",
       "      <td>366 days</td>\n",
       "      <td>1</td>\n",
       "    </tr>\n",
       "  </tbody>\n",
       "</table>\n",
       "</div>"
      ],
      "text/plain": [
       "     Cidade       Data  Vendas LojaID  Qtde  receita  mes_venda  dia_venda  \\\n",
       "8     Natal 2019-03-27  667.00    852     4  2668.00          3         27   \n",
       "16   Recife 2019-01-01   19.95    980     8   159.60          1          1   \n",
       "202   Natal 2019-01-02   22.45   1036     1    22.45          1          2   \n",
       "57   Recife 2019-01-01  201.41    980     3   604.23          1          1   \n",
       "150   Natal 2019-01-02   11.13   1035     2    22.26          1          2   \n",
       "\n",
       "    diferenca_dias  trimestre_venda  \n",
       "8         450 days                1  \n",
       "16        365 days                1  \n",
       "202       366 days                1  \n",
       "57        365 days                1  \n",
       "150       366 days                1  "
      ]
     },
     "execution_count": 42,
     "metadata": {},
     "output_type": "execute_result"
    }
   ],
   "source": [
    "df.sample(5)"
   ]
  },
  {
   "cell_type": "code",
   "execution_count": 43,
   "id": "185d9fbe",
   "metadata": {},
   "outputs": [],
   "source": [
    "vendas_marco_2019 = df.loc[(df['Data'].dt.year == 2019)& (df['Data'].dt.month == 3)]"
   ]
  },
  {
   "cell_type": "code",
   "execution_count": 44,
   "id": "f996d938",
   "metadata": {},
   "outputs": [
    {
     "data": {
      "text/html": [
       "<div>\n",
       "<style scoped>\n",
       "    .dataframe tbody tr th:only-of-type {\n",
       "        vertical-align: middle;\n",
       "    }\n",
       "\n",
       "    .dataframe tbody tr th {\n",
       "        vertical-align: top;\n",
       "    }\n",
       "\n",
       "    .dataframe thead th {\n",
       "        text-align: right;\n",
       "    }\n",
       "</style>\n",
       "<table border=\"1\" class=\"dataframe\">\n",
       "  <thead>\n",
       "    <tr style=\"text-align: right;\">\n",
       "      <th></th>\n",
       "      <th>Cidade</th>\n",
       "      <th>Data</th>\n",
       "      <th>Vendas</th>\n",
       "      <th>LojaID</th>\n",
       "      <th>Qtde</th>\n",
       "      <th>receita</th>\n",
       "      <th>mes_venda</th>\n",
       "      <th>dia_venda</th>\n",
       "      <th>diferenca_dias</th>\n",
       "      <th>trimestre_venda</th>\n",
       "    </tr>\n",
       "  </thead>\n",
       "  <tbody>\n",
       "    <tr>\n",
       "      <th>108</th>\n",
       "      <td>Fortaleza</td>\n",
       "      <td>2019-03-02</td>\n",
       "      <td>152.89</td>\n",
       "      <td>981</td>\n",
       "      <td>4</td>\n",
       "      <td>611.56</td>\n",
       "      <td>3</td>\n",
       "      <td>2</td>\n",
       "      <td>425 days</td>\n",
       "      <td>1</td>\n",
       "    </tr>\n",
       "    <tr>\n",
       "      <th>109</th>\n",
       "      <td>Fortaleza</td>\n",
       "      <td>2019-03-02</td>\n",
       "      <td>18.90</td>\n",
       "      <td>982</td>\n",
       "      <td>6</td>\n",
       "      <td>113.40</td>\n",
       "      <td>3</td>\n",
       "      <td>2</td>\n",
       "      <td>425 days</td>\n",
       "      <td>1</td>\n",
       "    </tr>\n",
       "    <tr>\n",
       "      <th>110</th>\n",
       "      <td>Fortaleza</td>\n",
       "      <td>2019-03-02</td>\n",
       "      <td>51.98</td>\n",
       "      <td>983</td>\n",
       "      <td>6</td>\n",
       "      <td>311.88</td>\n",
       "      <td>3</td>\n",
       "      <td>2</td>\n",
       "      <td>425 days</td>\n",
       "      <td>1</td>\n",
       "    </tr>\n",
       "    <tr>\n",
       "      <th>111</th>\n",
       "      <td>Fortaleza</td>\n",
       "      <td>2019-03-02</td>\n",
       "      <td>8.00</td>\n",
       "      <td>981</td>\n",
       "      <td>3</td>\n",
       "      <td>24.00</td>\n",
       "      <td>3</td>\n",
       "      <td>2</td>\n",
       "      <td>425 days</td>\n",
       "      <td>1</td>\n",
       "    </tr>\n",
       "    <tr>\n",
       "      <th>112</th>\n",
       "      <td>Fortaleza</td>\n",
       "      <td>2019-03-02</td>\n",
       "      <td>133.59</td>\n",
       "      <td>982</td>\n",
       "      <td>1</td>\n",
       "      <td>133.59</td>\n",
       "      <td>3</td>\n",
       "      <td>2</td>\n",
       "      <td>425 days</td>\n",
       "      <td>1</td>\n",
       "    </tr>\n",
       "    <tr>\n",
       "      <th>...</th>\n",
       "      <td>...</td>\n",
       "      <td>...</td>\n",
       "      <td>...</td>\n",
       "      <td>...</td>\n",
       "      <td>...</td>\n",
       "      <td>...</td>\n",
       "      <td>...</td>\n",
       "      <td>...</td>\n",
       "      <td>...</td>\n",
       "      <td>...</td>\n",
       "    </tr>\n",
       "    <tr>\n",
       "      <th>137</th>\n",
       "      <td>Salvador</td>\n",
       "      <td>2019-03-02</td>\n",
       "      <td>51.66</td>\n",
       "      <td>1036</td>\n",
       "      <td>3</td>\n",
       "      <td>154.98</td>\n",
       "      <td>3</td>\n",
       "      <td>2</td>\n",
       "      <td>425 days</td>\n",
       "      <td>1</td>\n",
       "    </tr>\n",
       "    <tr>\n",
       "      <th>138</th>\n",
       "      <td>Salvador</td>\n",
       "      <td>2019-03-02</td>\n",
       "      <td>212.03</td>\n",
       "      <td>1037</td>\n",
       "      <td>3</td>\n",
       "      <td>636.09</td>\n",
       "      <td>3</td>\n",
       "      <td>2</td>\n",
       "      <td>425 days</td>\n",
       "      <td>1</td>\n",
       "    </tr>\n",
       "    <tr>\n",
       "      <th>139</th>\n",
       "      <td>Salvador</td>\n",
       "      <td>2019-03-02</td>\n",
       "      <td>169.01</td>\n",
       "      <td>1036</td>\n",
       "      <td>1</td>\n",
       "      <td>169.01</td>\n",
       "      <td>3</td>\n",
       "      <td>2</td>\n",
       "      <td>425 days</td>\n",
       "      <td>1</td>\n",
       "    </tr>\n",
       "    <tr>\n",
       "      <th>140</th>\n",
       "      <td>Salvador</td>\n",
       "      <td>2019-03-02</td>\n",
       "      <td>20.79</td>\n",
       "      <td>1036</td>\n",
       "      <td>2</td>\n",
       "      <td>41.58</td>\n",
       "      <td>3</td>\n",
       "      <td>2</td>\n",
       "      <td>425 days</td>\n",
       "      <td>1</td>\n",
       "    </tr>\n",
       "    <tr>\n",
       "      <th>141</th>\n",
       "      <td>Salvador</td>\n",
       "      <td>2019-03-02</td>\n",
       "      <td>9.08</td>\n",
       "      <td>1036</td>\n",
       "      <td>1</td>\n",
       "      <td>9.08</td>\n",
       "      <td>3</td>\n",
       "      <td>2</td>\n",
       "      <td>425 days</td>\n",
       "      <td>1</td>\n",
       "    </tr>\n",
       "  </tbody>\n",
       "</table>\n",
       "<p>121 rows × 10 columns</p>\n",
       "</div>"
      ],
      "text/plain": [
       "        Cidade       Data  Vendas LojaID  Qtde  receita  mes_venda  dia_venda  \\\n",
       "108  Fortaleza 2019-03-02  152.89    981     4   611.56          3          2   \n",
       "109  Fortaleza 2019-03-02   18.90    982     6   113.40          3          2   \n",
       "110  Fortaleza 2019-03-02   51.98    983     6   311.88          3          2   \n",
       "111  Fortaleza 2019-03-02    8.00    981     3    24.00          3          2   \n",
       "112  Fortaleza 2019-03-02  133.59    982     1   133.59          3          2   \n",
       "..         ...        ...     ...    ...   ...      ...        ...        ...   \n",
       "137   Salvador 2019-03-02   51.66   1036     3   154.98          3          2   \n",
       "138   Salvador 2019-03-02  212.03   1037     3   636.09          3          2   \n",
       "139   Salvador 2019-03-02  169.01   1036     1   169.01          3          2   \n",
       "140   Salvador 2019-03-02   20.79   1036     2    41.58          3          2   \n",
       "141   Salvador 2019-03-02    9.08   1036     1     9.08          3          2   \n",
       "\n",
       "    diferenca_dias  trimestre_venda  \n",
       "108       425 days                1  \n",
       "109       425 days                1  \n",
       "110       425 days                1  \n",
       "111       425 days                1  \n",
       "112       425 days                1  \n",
       "..             ...              ...  \n",
       "137       425 days                1  \n",
       "138       425 days                1  \n",
       "139       425 days                1  \n",
       "140       425 days                1  \n",
       "141       425 days                1  \n",
       "\n",
       "[121 rows x 10 columns]"
      ]
     },
     "execution_count": 44,
     "metadata": {},
     "output_type": "execute_result"
    }
   ],
   "source": [
    "vendas_marco_2019"
   ]
  },
  {
   "cell_type": "code",
   "execution_count": 45,
   "id": "03916641",
   "metadata": {},
   "outputs": [
    {
     "data": {
      "text/plain": [
       "1036    117\n",
       "1035    112\n",
       "1037    101\n",
       "1034     67\n",
       "983      65\n",
       "982      44\n",
       "1522     41\n",
       "1520     39\n",
       "980      36\n",
       "981      31\n",
       "1005     30\n",
       "1002     30\n",
       "1523     29\n",
       "852      29\n",
       "1004     28\n",
       "854      28\n",
       "853      26\n",
       "1521     21\n",
       "1003     20\n",
       "Name: LojaID, dtype: int64"
      ]
     },
     "execution_count": 45,
     "metadata": {},
     "output_type": "execute_result"
    }
   ],
   "source": [
    "df['LojaID'].value_counts(ascending=False)"
   ]
  },
  {
   "cell_type": "code",
   "execution_count": 52,
   "id": "273ca7c5",
   "metadata": {},
   "outputs": [
    {
     "data": {
      "image/png": "[encoded data removed]",
      "text/plain": [
       "<Figure size 432x288 with 1 Axes>"
      ]
     },
     "metadata": {
      "needs_background": "light"
     },
     "output_type": "display_data"
    }
   ],
   "source": [
    "df['LojaID'].value_counts(ascending=False).plot.bar();"
   ]
  },
  {
   "cell_type": "code",
   "execution_count": 51,
   "id": "af61d15d",
   "metadata": {},
   "outputs": [
    {
     "data": {
      "image/png": "[encoded data removed]",
      "text/plain": [
       "<Figure size 432x288 with 1 Axes>"
      ]
     },
     "metadata": {
      "needs_background": "light"
     },
     "output_type": "display_data"
    }
   ],
   "source": [
    "df['LojaID'].value_counts(ascending=True).plot.barh();"
   ]
  },
  {
   "cell_type": "code",
   "execution_count": 54,
   "id": "040e3b3b",
   "metadata": {},
   "outputs": [
    {
     "data": {
      "image/png": "[encoded data removed]",
      "text/plain": [
       "<Figure size 432x288 with 1 Axes>"
      ]
     },
     "metadata": {},
     "output_type": "display_data"
    }
   ],
   "source": [
    "df.groupby(df['Data'].dt.year)['receita'].sum().plot.pie();"
   ]
  },
  {
   "cell_type": "code",
   "execution_count": 56,
   "id": "d75bc1a4",
   "metadata": {},
   "outputs": [
    {
     "data": {
      "text/plain": [
       "Natal        240\n",
       "Salvador     240\n",
       "Recife       142\n",
       "Fortaleza    142\n",
       "Aracaju      130\n",
       "Name: Cidade, dtype: int64"
      ]
     },
     "execution_count": 56,
     "metadata": {},
     "output_type": "execute_result"
    }
   ],
   "source": [
    "df['Cidade'].value_counts()"
   ]
  },
  {
   "cell_type": "code",
   "execution_count": 58,
   "id": "4793fa8b",
   "metadata": {},
   "outputs": [
    {
     "data": {
      "image/png": "[encoded data removed]",
      "text/plain": [
       "<Figure size 432x288 with 1 Axes>"
      ]
     },
     "metadata": {
      "needs_background": "light"
     },
     "output_type": "display_data"
    }
   ],
   "source": [
    "# adicionando um titulo e alterando o nome dos eixos\n",
    "import matplotlib.pyplot as plt\n",
    "df['Cidade'].value_counts().plot.bar(title='Total vendas por cidade')\n",
    "plt.xlabel('Cidade')\n",
    "plt.ylabel('Total vendas');"
   ]
  },
  {
   "cell_type": "code",
   "execution_count": 62,
   "id": "42bbc3e7",
   "metadata": {},
   "outputs": [
    {
     "data": {
      "text/plain": [
       "Text(0, 0.5, 'Total vendas')"
      ]
     },
     "execution_count": 62,
     "metadata": {},
     "output_type": "execute_result"
    },
    {
     "data": {
      "image/png": "[encoded data removed]",
      "text/plain": [
       "<Figure size 432x288 with 1 Axes>"
      ]
     },
     "metadata": {
      "needs_background": "light"
     },
     "output_type": "display_data"
    }
   ],
   "source": [
    "df['Cidade'].value_counts().plot.bar(title='Total vendas por cidade', color='red')\n",
    "plt.xlabel('Cidade')\n",
    "plt.ylabel('Total vendas')"
   ]
  },
  {
   "cell_type": "code",
   "execution_count": 63,
   "id": "85b9b12f",
   "metadata": {},
   "outputs": [],
   "source": [
    "plt.style.use('ggplot')"
   ]
  },
  {
   "cell_type": "code",
   "execution_count": 66,
   "id": "e47a6cf3",
   "metadata": {},
   "outputs": [
    {
     "data": {
      "image/png": "[encoded data removed]",
      "text/plain": [
       "<Figure size 432x288 with 1 Axes>"
      ]
     },
     "metadata": {},
     "output_type": "display_data"
    }
   ],
   "source": [
    "df.groupby(df['mes_venda'])['Qtde'].sum().plot(title='Total produtor vendidos por mês')\n",
    "plt.xlabel('mes')\n",
    "plt.ylabel('Total produtos vendidos')\n",
    "plt.legend();"
   ]
  },
  {
   "cell_type": "code",
   "execution_count": 67,
   "id": "17de0f53",
   "metadata": {},
   "outputs": [
    {
     "data": {
      "text/plain": [
       "mes_venda\n",
       "1     2208\n",
       "2      144\n",
       "3      467\n",
       "4       23\n",
       "5       17\n",
       "6       13\n",
       "7       13\n",
       "8        2\n",
       "9       10\n",
       "10      14\n",
       "11       2\n",
       "12       3\n",
       "Name: Qtde, dtype: int64"
      ]
     },
     "execution_count": 67,
     "metadata": {},
     "output_type": "execute_result"
    }
   ],
   "source": [
    "df.groupby(df['mes_venda'])['Qtde'].sum()"
   ]
  },
  {
   "cell_type": "code",
   "execution_count": 73,
   "id": "edc13bff",
   "metadata": {},
   "outputs": [],
   "source": [
    "df_2019 = df[df['ano_venda'] == 2019]"
   ]
  },
  {
   "cell_type": "code",
   "execution_count": 77,
   "id": "9f1bcad4",
   "metadata": {},
   "outputs": [
    {
     "data": {
      "image/png": "[encoded data removed]",
      "text/plain": [
       "<Figure size 432x288 with 1 Axes>"
      ]
     },
     "metadata": {},
     "output_type": "display_data"
    }
   ],
   "source": [
    "df_2019.groupby(df_2019['mes_venda'])['Qtde'].sum().plot(marker = 'v')\n",
    "plt.xlabel('Mês')\n",
    "plt.ylabel('Total produtos vendidos')\n",
    "plt.legend();"
   ]
  },
  {
   "cell_type": "code",
   "execution_count": 78,
   "id": "a4e80dec",
   "metadata": {},
   "outputs": [
    {
     "data": {
      "image/png": "[encoded data removed]",
      "text/plain": [
       "<Figure size 432x288 with 1 Axes>"
      ]
     },
     "metadata": {},
     "output_type": "display_data"
    }
   ],
   "source": [
    "plt.hist(df['Qtde'], color='magenta');"
   ]
  },
  {
   "cell_type": "code",
   "execution_count": 79,
   "id": "b64c9859",
   "metadata": {},
   "outputs": [
    {
     "data": {
      "image/png": "[encoded data removed]",
      "text/plain": [
       "<Figure size 432x288 with 1 Axes>"
      ]
     },
     "metadata": {},
     "output_type": "display_data"
    }
   ],
   "source": [
    "plt.scatter(x=df_2019['dia_venda'], y = df_2019['receita']);"
   ]
  },
  {
   "cell_type": "code",
   "execution_count": 80,
   "id": "ff7161f9",
   "metadata": {},
   "outputs": [
    {
     "data": {
      "image/png": "[encoded data removed]",
      "text/plain": [
       "<Figure size 432x288 with 1 Axes>"
      ]
     },
     "metadata": {},
     "output_type": "display_data"
    }
   ],
   "source": [
    "# salvando o grafico em uma imagem png\n",
    "df_2019.groupby(df_2019['mes_venda'])['Qtde'].sum().plot(marker = 'v')\n",
    "plt.title('Quantidade de produtos vendidos x mes')\n",
    "plt.xlabel('Mês')\n",
    "plt.ylabel('Total de Produtos vendidos')\n",
    "plt.legend()\n",
    "plt.savefig('grafico QTDE x MES.png')"
   ]
  },
  {
   "cell_type": "code",
   "execution_count": null,
   "id": "82c32557",
   "metadata": {},
   "outputs": [],
   "source": []
  }
 ],
 "metadata": {
  "kernelspec": {
   "display_name": "Python 3",
   "language": "python",
   "name": "python3"
  },
  "language_info": {
   "codemirror_mode": {
    "name": "ipython",
    "version": 3
   },
   "file_extension": ".py",
   "mimetype": "text/x-python",
   "name": "python",
   "nbconvert_exporter": "python",
   "pygments_lexer": "ipython3",
   "version": "3.8.8"
  }
 },
 "nbformat": 4,
 "nbformat_minor": 5
}
